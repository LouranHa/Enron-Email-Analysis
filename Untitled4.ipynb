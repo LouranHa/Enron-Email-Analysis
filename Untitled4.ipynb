{
  "nbformat": 4,
  "nbformat_minor": 0,
  "metadata": {
    "colab": {
      "private_outputs": true,
      "provenance": [],
      "authorship_tag": "ABX9TyP3Aw7iphGKoQR3TEu2bxvD",
      "include_colab_link": true
    },
    "kernelspec": {
      "name": "python3",
      "display_name": "Python 3"
    },
    "language_info": {
      "name": "python"
    }
  },
  "cells": [
    {
      "cell_type": "markdown",
      "metadata": {
        "id": "view-in-github",
        "colab_type": "text"
      },
      "source": [
        "<a href=\"https://colab.research.google.com/github/LouranHa/Enron-Email-Analysis/blob/main/Untitled4.ipynb\" target=\"_parent\"><img src=\"https://colab.research.google.com/assets/colab-badge.svg\" alt=\"Open In Colab\"/></a>"
      ]
    },
    {
      "cell_type": "code",
      "execution_count": null,
      "metadata": {
        "id": "yrEUAwgYYFOV"
      },
      "outputs": [],
      "source": [
        "def calculate_gross_pay():\n",
        "    total_gross_pay = 0  # Initialize total gross pay\n",
        "    \n",
        "    while True:\n",
        "        # Prompt the user for input\n",
        "        hours_worked = input(\"Enter the number of hours worked: \")\n",
        "        hourly_pay_rate = input(\"Enter the hourly pay rate: \")\n",
        "\n",
        "        # Validate the input\n",
        "        try:\n",
        "            hours_worked = float(hours_worked)\n",
        "            hourly_pay_rate = float(hourly_pay_rate)\n",
        "            if hours_worked < 0 or hourly_pay_rate < 0:\n",
        "                raise ValueError\n",
        "        except ValueError:\n",
        "            print(\"Invalid input. Please enter numeric values greater than or equal to zero.\")\n",
        "            continue\n",
        "\n",
        "        # Calculate the gross pay\n",
        "        gross_pay = hours_worked * hourly_pay_rate\n",
        "\n",
        "        # Add the gross pay to the total\n",
        "        total_gross_pay += gross_pay\n",
        "\n",
        "        # Display the result\n",
        "        print(f\"The gross pay is: ${gross_pay}\")\n",
        "\n",
        "        # Ask the user if they want to calculate again\n",
        "        repeat = input(\"Do you want to calculate again? (yes/no): \")\n",
        "        if repeat.lower() != \"yes\":\n",
        "            break\n",
        "\n",
        "    # Display the total gross pay\n",
        "    print(f\"The total gross pay is: ${total_gross_pay}\")\n",
        "\n",
        "# Call the calculate_gross_pay function\n",
        "calculate_gross_pay()\n"
      ]
    },
    {
      "cell_type": "markdown",
      "source": [
        "#The development code for calculating"
      ],
      "metadata": {
        "id": "_2Nb6i2ucA_f"
      }
    },
    {
      "cell_type": "code",
      "source": [
        "#@title My gross pay calculator\n",
        "\n",
        "hours_worked_weekday = 15 #@param {type:\"number\"}\n",
        "hours_worked_weekend = 10 #@param {type:\"number\"}\n",
        "name = \"Louran\" #@param {type:\"string\"}\n",
        "total_gross_pay = None #@param {type:\"number\"}\n",
        "def calculate_gross_pay():\n",
        "    total_gross_pay = 0  # Initialize total gross pay\n",
        "    \n",
        "    while True:\n",
        "        # Ask the user if the pay rate is for weekday or weekend\n",
        "        pay_rate = input(\"Do you want to calculate for weekday or weekend?: \")\n",
        "\n",
        "        if pay_rate.lower() == \"weekday\":\n",
        "            hours_worked_weekday = float(input(\"Enter the number of hours worked: \"))\n",
        "            # Calculate the gross pay for weekdays\n",
        "            gross_pay = hours_worked_weekday * 28.15\n",
        "        elif pay_rate.lower() == \"weekend\":\n",
        "            hours_worked_weekend = float(input(\"Enter the number of hours worked: \"))\n",
        "            # Calculate the gross pay for weekends\n",
        "            gross_pay = hours_worked_weekend * 34.45\n",
        "        else:\n",
        "            print(\"Invalid input. Please enter 'weekday' or 'weekend'.\")\n",
        "            continue\n",
        "\n",
        "        # Add the gross pay to the total\n",
        "        total_gross_pay += gross_pay\n",
        "\n",
        "        # Display the result\n",
        "        print(f\"The gross pay is: ${gross_pay}\")\n",
        "\n",
        "        # Ask the user if they want to repeat the calculation\n",
        "        repeat = input(\"Do you want to calculate again? (yes/no): \")\n",
        "        if repeat.lower() != \"yes\":\n",
        "            break\n",
        "\n",
        "    # Display the total gross pay\n",
        "    print(f\"The total gross pay is: ${total_gross_pay}\")\n",
        "\n",
        "# Call the calculate_gross_pay function\n",
        "calculate_gross_pay()\n",
        "no"
      ],
      "metadata": {
        "cellView": "code",
        "id": "VIdF2ubGaJXN"
      },
      "execution_count": null,
      "outputs": []
    },
    {
      "cell_type": "code",
      "source": [
        "import ipywidgets as widgets\n",
        "\n",
        "# Create form fields\n",
        "weekday_hours = widgets.FloatText(value=15, description='Weekday Hours:')\n",
        "weekend_hours = widgets.FloatText(value=10, description='Weekend Hours:')\n",
        "name = widgets.Text(value='Louran', description='Name:')\n",
        "\n",
        "# Function to calculate gross pay\n",
        "def calculate_gross_pay():\n",
        "    total_gross_pay = 0  # Initialize total gross pay\n",
        "    \n",
        "    while True:\n",
        "        # Ask the user if the pay rate is for weekday or weekend\n",
        "        pay_rate = input(\"Do you want to calculate for weekday or weekend?: \")\n",
        "\n",
        "        if pay_rate.lower() == \"weekday\":\n",
        "            hours_worked_weekday = weekday_hours.value\n",
        "            # Calculate the gross pay for weekdays\n",
        "            gross_pay = hours_worked_weekday * 28.15\n",
        "        elif pay_rate.lower() == \"weekend\":\n",
        "            hours_worked_weekend = weekend_hours.value\n",
        "            # Calculate the gross pay for weekends\n",
        "            gross_pay = hours_worked_weekend * 34.45\n",
        "        else:\n",
        "            print(\"Invalid input. Please enter 'weekday' or 'weekend'.\")\n",
        "            continue\n",
        "\n",
        "        # Add the gross pay to the total\n",
        "        total_gross_pay += gross_pay\n",
        "\n",
        "        # Display the result\n",
        "        print(f\"The gross pay is: ${gross_pay}\")\n",
        "\n",
        "        # Ask the user if they want to repeat the calculation\n",
        "        repeat = input(\"Do you want to calculate again? (yes/no): \")\n",
        "        if repeat.lower() != \"yes\":\n",
        "            break\n",
        "\n",
        "    # Display the total gross pay\n",
        "    print(f\"The total gross pay is: ${total_gross_pay}\")\n",
        "\n",
        "# Display the form and call the calculate_gross_pay function\n",
        "widgets.interact(calculate_gross_pay)\n"
      ],
      "metadata": {
        "id": "oeef_SKohyg-"
      },
      "execution_count": null,
      "outputs": []
    },
    {
      "cell_type": "code",
      "source": [
        "#@title Default title text\n",
        "import ipywidgets as widgets\n",
        "\n",
        "# Create form fields\n",
        "weekday_hours = widgets.FloatText(value=0, description='Weekday Hours:')\n",
        "weekend_hours = widgets.FloatText(value=0, description='Weekend Hours:')\n",
        "calculate_button = widgets.Button(description='Calculate Gross Pay')\n",
        "result = widgets.Output()\n",
        "\n",
        "# Function to calculate gross pay\n",
        "def calculate_gross_pay(b):\n",
        "    total_gross_pay = 0  # Initialize total gross pay\n",
        "\n",
        "    # Retrieve the values from the form fields\n",
        "    hours_worked_weekday = weekday_hours.value\n",
        "    hours_worked_weekend = weekend_hours.value\n",
        "\n",
        "    # Calculate the gross pay for weekdays and weekends\n",
        "    gross_pay_weekday = hours_worked_weekday * 28.15\n",
        "    gross_pay_weekend = hours_worked_weekend * 34.45\n",
        "\n",
        "    # Calculate the total gross pay\n",
        "    total_gross_pay = gross_pay_weekday + gross_pay_weekend\n",
        "\n",
        "    # Display the result\n",
        "    result.clear_output()\n",
        "    with result:\n",
        "        print(f\"The gross pay for weekdays is: ${gross_pay_weekday}\")\n",
        "        print(f\"The gross pay for weekends is: ${gross_pay_weekend}\")\n",
        "        print(f\"The total gross pay is: ${total_gross_pay}\")\n",
        "\n",
        "# Link the button to the calculation function\n",
        "calculate_button.on_click(calculate_gross_pay)\n",
        "\n",
        "# Display the form and result\n",
        "form = widgets.VBox([weekday_hours, weekend_hours, calculate_button, result])\n",
        "display(form)\n"
      ],
      "metadata": {
        "id": "ad66XNJJisf_"
      },
      "execution_count": null,
      "outputs": []
    }
  ]
}