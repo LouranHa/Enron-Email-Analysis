{
  "nbformat": 4,
  "nbformat_minor": 0,
  "metadata": {
    "kernelspec": {
      "display_name": "Python 3",
      "language": "python",
      "name": "python3"
    },
    "language_info": {
      "codemirror_mode": {
        "name": "ipython",
        "version": 3
      },
      "file_extension": ".py",
      "mimetype": "text/x-python",
      "name": "python",
      "nbconvert_exporter": "python",
      "pygments_lexer": "ipython3",
      "version": "3.6.6"
    },
    "colab": {
      "name": "Email classification.ipynb",
      "provenance": [],
      "collapsed_sections": []
    }
  },
  "cells": [
    {
      "cell_type": "code",
      "metadata": {
        "_cell_guid": "b1076dfc-b9ad-4769-8c92-a6c4dae69d19",
        "_uuid": "8f2839f25d086af736a60e9eeb907d3b93b6e0e5",
        "id": "Vv7VCEFhQVqk",
        "cellView": "code",
        "colab": {
          "base_uri": "https://localhost:8080/",
          "height": 632
        },
        "outputId": "a25ff274-688d-4b34-f84a-34a1a4de3b02"
      },
      "source": [
        "import pandas as pd\n",
        "import numpy as np\n",
        "import gensim\n",
        "import gensim.corpora as corpora\n",
        "from gensim.utils import simple_preprocess\n",
        "from gensim.models import CoherenceModel\n",
        "!pip install pyLDAvis\n",
        "import pyLDAvis\n",
        "import pyLDAvis.gensim\n",
        "import matplotlib.pyplot as plt\n",
        "import re\n",
        "import spacy"
      ],
      "execution_count": null,
      "outputs": [
        {
          "output_type": "stream",
          "text": [
            "Collecting pyLDAvis\n",
            "\u001b[?25l  Downloading https://files.pythonhosted.org/packages/a5/3a/af82e070a8a96e13217c8f362f9a73e82d61ac8fff3a2561946a97f96266/pyLDAvis-2.1.2.tar.gz (1.6MB)\n",
            "\u001b[K     |████████████████████████████████| 1.6MB 3.4MB/s \n",
            "\u001b[?25hRequirement already satisfied: wheel>=0.23.0 in /usr/local/lib/python3.6/dist-packages (from pyLDAvis) (0.34.2)\n",
            "Requirement already satisfied: numpy>=1.9.2 in /usr/local/lib/python3.6/dist-packages (from pyLDAvis) (1.18.2)\n",
            "Requirement already satisfied: scipy>=0.18.0 in /usr/local/lib/python3.6/dist-packages (from pyLDAvis) (1.4.1)\n",
            "Requirement already satisfied: pandas>=0.17.0 in /usr/local/lib/python3.6/dist-packages (from pyLDAvis) (1.0.3)\n",
            "Requirement already satisfied: joblib>=0.8.4 in /usr/local/lib/python3.6/dist-packages (from pyLDAvis) (0.14.1)\n",
            "Requirement already satisfied: jinja2>=2.7.2 in /usr/local/lib/python3.6/dist-packages (from pyLDAvis) (2.11.1)\n",
            "Requirement already satisfied: numexpr in /usr/local/lib/python3.6/dist-packages (from pyLDAvis) (2.7.1)\n",
            "Requirement already satisfied: pytest in /usr/local/lib/python3.6/dist-packages (from pyLDAvis) (3.6.4)\n",
            "Requirement already satisfied: future in /usr/local/lib/python3.6/dist-packages (from pyLDAvis) (0.16.0)\n",
            "Collecting funcy\n",
            "\u001b[?25l  Downloading https://files.pythonhosted.org/packages/ce/4b/6ffa76544e46614123de31574ad95758c421aae391a1764921b8a81e1eae/funcy-1.14.tar.gz (548kB)\n",
            "\u001b[K     |████████████████████████████████| 552kB 22.1MB/s \n",
            "\u001b[?25hRequirement already satisfied: python-dateutil>=2.6.1 in /usr/local/lib/python3.6/dist-packages (from pandas>=0.17.0->pyLDAvis) (2.8.1)\n",
            "Requirement already satisfied: pytz>=2017.2 in /usr/local/lib/python3.6/dist-packages (from pandas>=0.17.0->pyLDAvis) (2018.9)\n",
            "Requirement already satisfied: MarkupSafe>=0.23 in /usr/local/lib/python3.6/dist-packages (from jinja2>=2.7.2->pyLDAvis) (1.1.1)\n",
            "Requirement already satisfied: setuptools in /usr/local/lib/python3.6/dist-packages (from pytest->pyLDAvis) (46.0.0)\n",
            "Requirement already satisfied: py>=1.5.0 in /usr/local/lib/python3.6/dist-packages (from pytest->pyLDAvis) (1.8.1)\n",
            "Requirement already satisfied: attrs>=17.4.0 in /usr/local/lib/python3.6/dist-packages (from pytest->pyLDAvis) (19.3.0)\n",
            "Requirement already satisfied: more-itertools>=4.0.0 in /usr/local/lib/python3.6/dist-packages (from pytest->pyLDAvis) (8.2.0)\n",
            "Requirement already satisfied: atomicwrites>=1.0 in /usr/local/lib/python3.6/dist-packages (from pytest->pyLDAvis) (1.3.0)\n",
            "Requirement already satisfied: six>=1.10.0 in /usr/local/lib/python3.6/dist-packages (from pytest->pyLDAvis) (1.12.0)\n",
            "Requirement already satisfied: pluggy<0.8,>=0.5 in /usr/local/lib/python3.6/dist-packages (from pytest->pyLDAvis) (0.7.1)\n",
            "Building wheels for collected packages: pyLDAvis, funcy\n",
            "  Building wheel for pyLDAvis (setup.py) ... \u001b[?25l\u001b[?25hdone\n",
            "  Created wheel for pyLDAvis: filename=pyLDAvis-2.1.2-py2.py3-none-any.whl size=97711 sha256=3742beee3061af91647ab5d0b7113c719a9136790fd36338b4da44151ddd8f56\n",
            "  Stored in directory: /root/.cache/pip/wheels/98/71/24/513a99e58bb6b8465bae4d2d5e9dba8f0bef8179e3051ac414\n",
            "  Building wheel for funcy (setup.py) ... \u001b[?25l\u001b[?25hdone\n",
            "  Created wheel for funcy: filename=funcy-1.14-py2.py3-none-any.whl size=32042 sha256=434b4e66fce938495147d33b1c928d7d7a45965631851d0e5df2918249b01e37\n",
            "  Stored in directory: /root/.cache/pip/wheels/20/5a/d8/1d875df03deae6f178dfdf70238cca33f948ef8a6f5209f2eb\n",
            "Successfully built pyLDAvis funcy\n",
            "Installing collected packages: funcy, pyLDAvis\n",
            "Successfully installed funcy-1.14 pyLDAvis-2.1.2\n"
          ],
          "name": "stdout"
        }
      ]
    },
    {
      "cell_type": "code",
      "metadata": {
        "id": "m1IZbV5tGUXf",
        "colab": {
          "base_uri": "https://localhost:8080/",
          "height": 122
        },
        "outputId": "fae5e31a-039a-4de3-90ce-94f1cfa957fc"
      },
      "source": [
        "from google.colab import drive\n",
        "drive.mount('/content/drive')"
      ],
      "execution_count": null,
      "outputs": [
        {
          "output_type": "stream",
          "text": [
            "Go to this URL in a browser: https://accounts.google.com/o/oauth2/auth?client_id=947318989803-6bn6qk8qdgf4n4g3pfee6491hc0brc4i.apps.googleusercontent.com&redirect_uri=urn%3aietf%3awg%3aoauth%3a2.0%3aoob&response_type=code&scope=email%20https%3a%2f%2fwww.googleapis.com%2fauth%2fdocs.test%20https%3a%2f%2fwww.googleapis.com%2fauth%2fdrive%20https%3a%2f%2fwww.googleapis.com%2fauth%2fdrive.photos.readonly%20https%3a%2f%2fwww.googleapis.com%2fauth%2fpeopleapi.readonly\n",
            "\n",
            "Enter your authorization code:\n",
            "··········\n",
            "Mounted at /content/drive\n"
          ],
          "name": "stdout"
        }
      ]
    },
    {
      "cell_type": "code",
      "metadata": {
        "_cell_guid": "79c7e3d0-c299-4dcb-8224-4455121ee9b0",
        "_uuid": "d629ff2d2480ee46fbb7e2d37f6b5fab8052498a",
        "id": "PtaKg2ATGUV_",
        "colab": {
          "base_uri": "https://localhost:8080/",
          "height": 204
        },
        "outputId": "9e1ef10b-fe36-40cd-e8d1-87a749dbb23c"
      },
      "source": [
        "path = '/content/drive/My Drive/BE/Sem 8/ML/IA-2/emails.csv' \n",
        "emails = pd.read_csv(path)\n",
        "emails.head()"
      ],
      "execution_count": null,
      "outputs": [
        {
          "output_type": "execute_result",
          "data": {
            "text/html": [
              "<div>\n",
              "<style scoped>\n",
              "    .dataframe tbody tr th:only-of-type {\n",
              "        vertical-align: middle;\n",
              "    }\n",
              "\n",
              "    .dataframe tbody tr th {\n",
              "        vertical-align: top;\n",
              "    }\n",
              "\n",
              "    .dataframe thead th {\n",
              "        text-align: right;\n",
              "    }\n",
              "</style>\n",
              "<table border=\"1\" class=\"dataframe\">\n",
              "  <thead>\n",
              "    <tr style=\"text-align: right;\">\n",
              "      <th></th>\n",
              "      <th>file</th>\n",
              "      <th>message</th>\n",
              "    </tr>\n",
              "  </thead>\n",
              "  <tbody>\n",
              "    <tr>\n",
              "      <th>0</th>\n",
              "      <td>allen-p/_sent_mail/1.</td>\n",
              "      <td>Message-ID: &lt;18782981.1075855378110.JavaMail.e...</td>\n",
              "    </tr>\n",
              "    <tr>\n",
              "      <th>1</th>\n",
              "      <td>allen-p/_sent_mail/10.</td>\n",
              "      <td>Message-ID: &lt;15464986.1075855378456.JavaMail.e...</td>\n",
              "    </tr>\n",
              "    <tr>\n",
              "      <th>2</th>\n",
              "      <td>allen-p/_sent_mail/100.</td>\n",
              "      <td>Message-ID: &lt;24216240.1075855687451.JavaMail.e...</td>\n",
              "    </tr>\n",
              "    <tr>\n",
              "      <th>3</th>\n",
              "      <td>allen-p/_sent_mail/1000.</td>\n",
              "      <td>Message-ID: &lt;13505866.1075863688222.JavaMail.e...</td>\n",
              "    </tr>\n",
              "    <tr>\n",
              "      <th>4</th>\n",
              "      <td>allen-p/_sent_mail/1001.</td>\n",
              "      <td>Message-ID: &lt;30922949.1075863688243.JavaMail.e...</td>\n",
              "    </tr>\n",
              "  </tbody>\n",
              "</table>\n",
              "</div>"
            ],
            "text/plain": [
              "                       file                                            message\n",
              "0     allen-p/_sent_mail/1.  Message-ID: <18782981.1075855378110.JavaMail.e...\n",
              "1    allen-p/_sent_mail/10.  Message-ID: <15464986.1075855378456.JavaMail.e...\n",
              "2   allen-p/_sent_mail/100.  Message-ID: <24216240.1075855687451.JavaMail.e...\n",
              "3  allen-p/_sent_mail/1000.  Message-ID: <13505866.1075863688222.JavaMail.e...\n",
              "4  allen-p/_sent_mail/1001.  Message-ID: <30922949.1075863688243.JavaMail.e..."
            ]
          },
          "metadata": {
            "tags": []
          },
          "execution_count": 3
        }
      ]
    },
    {
      "cell_type": "code",
      "metadata": {
        "id": "rc9FcrYeGUWD",
        "colab": {
          "base_uri": "https://localhost:8080/",
          "height": 34
        },
        "outputId": "07b05df2-810b-41a0-a739-f1fc7816f02c"
      },
      "source": [
        "emails.shape"
      ],
      "execution_count": null,
      "outputs": [
        {
          "output_type": "execute_result",
          "data": {
            "text/plain": [
              "(517401, 2)"
            ]
          },
          "metadata": {
            "tags": []
          },
          "execution_count": 4
        }
      ]
    },
    {
      "cell_type": "code",
      "metadata": {
        "id": "lJ-k8X5tGUWG",
        "colab": {
          "base_uri": "https://localhost:8080/",
          "height": 136
        },
        "outputId": "0fe464bc-9b6a-4d31-e78d-0b163721b0d7"
      },
      "source": [
        "# email_subset = emails\n",
        "email_subset = emails[:50000]\n",
        "print(email_subset.shape)\n",
        "print(email_subset.head())"
      ],
      "execution_count": null,
      "outputs": [
        {
          "output_type": "stream",
          "text": [
            "(50000, 2)\n",
            "                       file                                            message\n",
            "0     allen-p/_sent_mail/1.  Message-ID: <18782981.1075855378110.JavaMail.e...\n",
            "1    allen-p/_sent_mail/10.  Message-ID: <15464986.1075855378456.JavaMail.e...\n",
            "2   allen-p/_sent_mail/100.  Message-ID: <24216240.1075855687451.JavaMail.e...\n",
            "3  allen-p/_sent_mail/1000.  Message-ID: <13505866.1075863688222.JavaMail.e...\n",
            "4  allen-p/_sent_mail/1001.  Message-ID: <30922949.1075863688243.JavaMail.e...\n"
          ],
          "name": "stdout"
        }
      ]
    },
    {
      "cell_type": "code",
      "metadata": {
        "id": "ItFKyAeQGUWK"
      },
      "source": [
        "def parse_into_emails(messages):\n",
        "    emails = [parse_raw_message(message) for message in messages]\n",
        "    return {\n",
        "        'body': map_to_list(emails, 'body'),\n",
        "        'to': map_to_list(emails, 'to'),\n",
        "        'from_': map_to_list(emails, 'from')\n",
        "    }"
      ],
      "execution_count": null,
      "outputs": []
    },
    {
      "cell_type": "code",
      "metadata": {
        "id": "qeaKjRLMGUWO"
      },
      "source": [
        "# cleaning \n",
        "def parse_raw_message(raw_message):\n",
        "    lines = raw_message.split('\\n')\n",
        "    email = {}\n",
        "    message = ''\n",
        "    keys_to_extract = ['from', 'to']\n",
        "    for line in lines:\n",
        "        if ':' not in line:\n",
        "            message += line.strip()\n",
        "            email['body'] = message\n",
        "        else:\n",
        "            pairs = line.split(':')\n",
        "            key = pairs[0].lower()\n",
        "            val = pairs[1].strip()\n",
        "            if key in keys_to_extract:\n",
        "                email[key] = val\n",
        "    return email"
      ],
      "execution_count": null,
      "outputs": []
    },
    {
      "cell_type": "code",
      "metadata": {
        "id": "RqpvYs2hGUWR"
      },
      "source": [
        "def map_to_list(emails, key):\n",
        "    results = []\n",
        "    for email in emails:\n",
        "        if key not in email:\n",
        "            results.append('')\n",
        "        else:\n",
        "            results.append(email[key])\n",
        "    return results"
      ],
      "execution_count": null,
      "outputs": []
    },
    {
      "cell_type": "code",
      "metadata": {
        "id": "KHR4Wi-AGUWW",
        "colab": {
          "base_uri": "https://localhost:8080/",
          "height": 153
        },
        "outputId": "6662fa8f-5fc6-47e5-8fa6-7e5ff426e5c6"
      },
      "source": [
        "email_df = pd.DataFrame(parse_into_emails(email_subset.message))\n",
        "print(email_df.head())"
      ],
      "execution_count": null,
      "outputs": [
        {
          "output_type": "stream",
          "text": [
            "                                                body  ...                    from_\n",
            "0                               Here is our forecast  ...  phillip.allen@enron.com\n",
            "1  Traveling to have a business meeting takes the...  ...  phillip.allen@enron.com\n",
            "2                     test successful.  way to go!!!  ...  phillip.allen@enron.com\n",
            "3  Randy,Can you send me a schedule of the salary...  ...  phillip.allen@enron.com\n",
            "4                                                     ...  phillip.allen@enron.com\n",
            "\n",
            "[5 rows x 3 columns]\n"
          ],
          "name": "stdout"
        }
      ]
    },
    {
      "cell_type": "code",
      "metadata": {
        "id": "-_Q3RR0OGUWZ",
        "colab": {
          "base_uri": "https://localhost:8080/",
          "height": 34
        },
        "outputId": "45a6aaa9-0cf2-4450-98dc-0b5e341cc740"
      },
      "source": [
        "email_df.shape\n"
      ],
      "execution_count": null,
      "outputs": [
        {
          "output_type": "execute_result",
          "data": {
            "text/plain": [
              "(50000, 3)"
            ]
          },
          "metadata": {
            "tags": []
          },
          "execution_count": 10
        }
      ]
    },
    {
      "cell_type": "code",
      "metadata": {
        "id": "xz8xBhueGUWd",
        "colab": {
          "base_uri": "https://localhost:8080/",
          "height": 51
        },
        "outputId": "bd3691ef-336c-4686-8551-cbca5740b5f1"
      },
      "source": [
        "import nltk\n",
        "nltk.download('stopwords')\n",
        "from nltk.corpus import stopwords\n",
        "stop_words = stopwords.words('english')\n",
        "stop_words.extend(['from', 'subject', 're', 'edu', 'use'])"
      ],
      "execution_count": null,
      "outputs": [
        {
          "output_type": "stream",
          "text": [
            "[nltk_data] Downloading package stopwords to /root/nltk_data...\n",
            "[nltk_data]   Unzipping corpora/stopwords.zip.\n"
          ],
          "name": "stdout"
        }
      ]
    },
    {
      "cell_type": "code",
      "metadata": {
        "id": "uVU2RqtwGUWg",
        "colab": {
          "base_uri": "https://localhost:8080/",
          "height": 54
        },
        "outputId": "6cf99ac7-c701-46dd-dbbe-d03c805650a0"
      },
      "source": [
        "print(email_df.iloc[1]['body'])"
      ],
      "execution_count": null,
      "outputs": [
        {
          "output_type": "stream",
          "text": [
            "Traveling to have a business meeting takes the fun out of the trip.  Especially if you have to prepare a presentation.  I would suggest holding the business plan meetings here then take a trip without any formal business meetings.  I would even try and get some honest opinions on whether a trip is even desired or necessary.As far as the business meetings, I think it would be more productive to try and stimulate discussions across the different groups about what is working and what is not.  Too often the presenter speaks and the others are quiet just waiting for their turn.   The meetings might be better if held in a round table discussion format.My suggestion for where to go is Austin.  Play golf and rent a ski boat and jet ski's.  Flying somewhere takes too much time.\n"
          ],
          "name": "stdout"
        }
      ]
    },
    {
      "cell_type": "code",
      "metadata": {
        "id": "hNYAr5IdGUWk",
        "colab": {
          "base_uri": "https://localhost:8080/",
          "height": 34
        },
        "outputId": "bea942d8-0411-4378-8bcf-8d426838bec3"
      },
      "source": [
        "data = email_df.body.values.tolist()\n",
        "type(data)"
      ],
      "execution_count": null,
      "outputs": [
        {
          "output_type": "execute_result",
          "data": {
            "text/plain": [
              "list"
            ]
          },
          "metadata": {
            "tags": []
          },
          "execution_count": 13
        }
      ]
    },
    {
      "cell_type": "code",
      "metadata": {
        "id": "Fr7K6m3tGUWp"
      },
      "source": [
        "def sent_to_words(sentences):\n",
        "    for sentence in sentences:\n",
        "        yield(gensim.utils.simple_preprocess(str(sentence), deacc=True))  # deacc=True removes punctuations"
      ],
      "execution_count": null,
      "outputs": []
    },
    {
      "cell_type": "code",
      "metadata": {
        "id": "Fm2B6A_6GUWt"
      },
      "source": [
        "data_words = list(sent_to_words(data))"
      ],
      "execution_count": null,
      "outputs": []
    },
    {
      "cell_type": "code",
      "metadata": {
        "id": "16BoRPKMGUWv",
        "colab": {
          "base_uri": "https://localhost:8080/",
          "height": 54
        },
        "outputId": "08ab1c5b-24b0-48a4-cd0c-3ba8037aa127"
      },
      "source": [
        "print(data_words[3])"
      ],
      "execution_count": null,
      "outputs": [
        {
          "output_type": "stream",
          "text": [
            "['randy', 'can', 'you', 'send', 'me', 'schedule', 'of', 'the', 'salary', 'and', 'level', 'of', 'everyone', 'in', 'thescheduling', 'group', 'plus', 'your', 'thoughts', 'on', 'any', 'changes', 'that', 'need', 'to', 'be', 'made', 'patti', 'for', 'example', 'phillip']\n"
          ],
          "name": "stdout"
        }
      ]
    },
    {
      "cell_type": "code",
      "metadata": {
        "id": "lbGeRBURGUWy"
      },
      "source": [
        "from gensim.models.phrases import Phrases, Phraser"
      ],
      "execution_count": null,
      "outputs": []
    },
    {
      "cell_type": "code",
      "metadata": {
        "id": "L9K6VeHcGUW2",
        "colab": {
          "base_uri": "https://localhost:8080/",
          "height": 51
        },
        "outputId": "81f228e9-4ffb-43c0-cbd1-cbd301754503"
      },
      "source": [
        "# Build the bigram and trigram models\n",
        "bigram = Phrases(data_words, min_count=5, threshold=100) # higher threshold fewer phrases.\n",
        "trigram = Phrases(bigram[data_words], threshold=100)"
      ],
      "execution_count": null,
      "outputs": [
        {
          "output_type": "stream",
          "text": [
            "/usr/local/lib/python3.6/dist-packages/gensim/models/phrases.py:598: UserWarning: For a faster implementation, use the gensim.models.phrases.Phraser class\n",
            "  warnings.warn(\"For a faster implementation, use the gensim.models.phrases.Phraser class\")\n"
          ],
          "name": "stderr"
        }
      ]
    },
    {
      "cell_type": "code",
      "metadata": {
        "id": "09dq5p0AGUW4"
      },
      "source": [
        "bigram_mod = Phraser(bigram)\n",
        "trigram_mod = Phraser(trigram)"
      ],
      "execution_count": null,
      "outputs": []
    },
    {
      "cell_type": "code",
      "metadata": {
        "id": "mmu7eSBMGUW9",
        "colab": {
          "base_uri": "https://localhost:8080/",
          "height": 54
        },
        "outputId": "b2625623-556b-4a8a-cbbe-c7bf8f3a6f4e"
      },
      "source": [
        "print(trigram_mod[bigram_mod[data_words[200]]])"
      ],
      "execution_count": null,
      "outputs": [
        {
          "output_type": "stream",
          "text": [
            "['forwarded', 'by', 'phillip_allen', 'hou', 'ect', 'on', 'hello', 'men', 'have', 'attached', 'my', 'worksheet', 'in', 'case', 'you', 'want', 'to', 'review', 'the', 'data', 'while_amon_holiday', 'thanks']\n"
          ],
          "name": "stdout"
        }
      ]
    },
    {
      "cell_type": "code",
      "metadata": {
        "id": "C526a2cIGUXA"
      },
      "source": [
        "def remove_stopwords(texts):\n",
        "    return [[word for word in simple_preprocess(str(doc)) if word not in stop_words] for doc in texts]\n",
        "\n",
        "def make_bigrams(texts):\n",
        "    return [bigram_mod[doc] for doc in texts]\n",
        "\n",
        "def make_trigrams(texts):\n",
        "    return [trigram_mod[bigram_mod[doc]] for doc in texts]\n",
        "\n",
        "def lemmatization(texts, allowed_postags=['NOUN', 'ADJ', 'VERB', 'ADV']):\n",
        "    \"\"\"https://spacy.io/api/annotation\"\"\"\n",
        "    texts_out = []\n",
        "    for sent in texts:\n",
        "        doc = nlp(\" \".join(sent))\n",
        "        texts_out.append([token.lemma_ for token in doc if token.pos_ in allowed_postags])\n",
        "    return texts_out"
      ],
      "execution_count": null,
      "outputs": []
    },
    {
      "cell_type": "code",
      "metadata": {
        "id": "p0KidU1VGUXC"
      },
      "source": [
        "data_words_nostops = remove_stopwords(data_words)"
      ],
      "execution_count": null,
      "outputs": []
    },
    {
      "cell_type": "code",
      "metadata": {
        "id": "BFSr0bEVGUXG"
      },
      "source": [
        "data_words_bigrams = make_bigrams(data_words_nostops)"
      ],
      "execution_count": null,
      "outputs": []
    },
    {
      "cell_type": "code",
      "metadata": {
        "id": "PWFIUh7CGUXJ"
      },
      "source": [
        "nlp = spacy.load('en', disable=['parser', 'ner'])"
      ],
      "execution_count": null,
      "outputs": []
    },
    {
      "cell_type": "code",
      "metadata": {
        "id": "b277khk4GUXM"
      },
      "source": [
        "data_lemmatized = lemmatization(data_words_bigrams, allowed_postags=['NOUN', 'ADJ', 'VERB', 'ADV'])"
      ],
      "execution_count": null,
      "outputs": []
    },
    {
      "cell_type": "code",
      "metadata": {
        "id": "cDGy0WYqGUXO",
        "colab": {
          "base_uri": "https://localhost:8080/",
          "height": 34
        },
        "outputId": "c9885eb3-0780-41ca-ecfc-7084e346c520"
      },
      "source": [
        "print(data_lemmatized[200])"
      ],
      "execution_count": null,
      "outputs": [
        {
          "output_type": "stream",
          "text": [
            "['ect', 'man', 'attach', 'want', 'datum', 'thank']\n"
          ],
          "name": "stdout"
        }
      ]
    },
    {
      "cell_type": "code",
      "metadata": {
        "id": "7CksKOC4GUXS"
      },
      "source": [
        "# create dictionary and corpus both are needed for (LDA) topic modeling\n",
        "\n",
        "# Create Dictionary\n",
        "id2word = corpora.Dictionary(data_lemmatized)\n",
        "\n",
        "# Create Corpus\n",
        "texts = data_lemmatized\n",
        "\n",
        "# Term Document Frequency\n",
        "corpus = [id2word.doc2bow(text) for text in texts]"
      ],
      "execution_count": null,
      "outputs": []
    },
    {
      "cell_type": "code",
      "metadata": {
        "id": "hyaTp6gxGUXW"
      },
      "source": [
        "import warnings\n",
        "warnings.filterwarnings(\"ignore\",category=DeprecationWarning)"
      ],
      "execution_count": null,
      "outputs": []
    },
    {
      "cell_type": "code",
      "metadata": {
        "id": "V-AtpBBmGUXZ"
      },
      "source": [
        "# Build LDA model\n",
        "lda_model = gensim.models.ldamodel.LdaModel(corpus=corpus,\n",
        "                                           id2word=id2word,\n",
        "                                           num_topics=20,\n",
        "                                           random_state=100,\n",
        "                                           update_every=1,\n",
        "                                           chunksize=100,\n",
        "                                           passes=10,\n",
        "                                           alpha='auto',\n",
        "                                           per_word_topics=True)"
      ],
      "execution_count": null,
      "outputs": []
    },
    {
      "cell_type": "code",
      "metadata": {
        "id": "LVCQ3ytPGUXc",
        "colab": {
          "base_uri": "https://localhost:8080/",
          "height": 54
        },
        "outputId": "f8589943-cabd-4d3f-d8ce-ad0ba831745b"
      },
      "source": [
        "print(lda_model.print_topics())"
      ],
      "execution_count": null,
      "outputs": [
        {
          "output_type": "stream",
          "text": [
            "[(0, '0.072*\"document\" + 0.045*\"transaction\" + 0.032*\"attorney\" + 0.025*\"color\" + 0.025*\"contractor\" + 0.025*\"width\" + 0.024*\"board\" + 0.022*\"align\" + 0.021*\"font\" + 0.020*\"tr\"'), (1, '0.057*\"state\" + 0.021*\"status\" + 0.021*\"bill\" + 0.021*\"public\" + 0.020*\"vote\" + 0.019*\"release\" + 0.019*\"termination\" + 0.017*\"agency\" + 0.013*\"legislation\" + 0.012*\"authorize\"'), (2, '0.061*\"meeting\" + 0.039*\"hold\" + 0.029*\"play\" + 0.026*\"soon\" + 0.025*\"speak\" + 0.023*\"suggest\" + 0.023*\"prepare\" + 0.022*\"final\" + 0.022*\"pass\" + 0.019*\"purpose\"'), (3, '0.039*\"image\" + 0.038*\"employer\" + 0.036*\"employment\" + 0.028*\"union\" + 0.023*\"increase\" + 0.015*\"relate\" + 0.015*\"accord\" + 0.015*\"performance\" + 0.015*\"announce\" + 0.014*\"move\"'), (4, '0.041*\"cash\" + 0.038*\"labor\" + 0.029*\"case\" + 0.022*\"cost\" + 0.018*\"corporate\" + 0.017*\"amount\" + 0.014*\"grant\" + 0.014*\"identify\" + 0.013*\"term\" + 0.012*\"value\"'), (5, '0.058*\"communication\" + 0.056*\"draft\" + 0.052*\"ect\" + 0.050*\"stock\" + 0.036*\"response\" + 0.032*\"vacation\" + 0.030*\"responsible\" + 0.026*\"lawyer\" + 0.020*\"couple\" + 0.018*\"ago\"'), (6, '0.049*\"worker\" + 0.033*\"claim\" + 0.031*\"policy\" + 0.031*\"new\" + 0.023*\"support\" + 0.016*\"find\" + 0.015*\"wage\" + 0.012*\"health\" + 0.012*\"write\" + 0.012*\"top\"'), (7, '0.118*\"week\" + 0.035*\"last\" + 0.029*\"next\" + 0.026*\"hire\" + 0.026*\"begin\" + 0.023*\"start\" + 0.022*\"expect\" + 0.021*\"notice\" + 0.015*\"language\" + 0.012*\"return\"'), (8, '0.042*\"may\" + 0.042*\"provide\" + 0.025*\"time\" + 0.021*\"date\" + 0.019*\"hour\" + 0.019*\"datum\" + 0.019*\"member\" + 0.019*\"person\" + 0.017*\"month\" + 0.017*\"ask\"'), (9, '0.240*\"page\" + 0.041*\"table\" + 0.019*\"size\" + 0.019*\"leave\" + 0.019*\"award\" + 0.015*\"pagea\" + 0.012*\"act\" + 0.008*\"package\" + 0.008*\"minimum\" + 0.008*\"nlrb\"'), (10, '0.101*\"message\" + 0.075*\"original\" + 0.070*\"thank\" + 0.035*\"send\" + 0.034*\"call\" + 0.032*\"mail\" + 0.030*\"information\" + 0.026*\"question\" + 0.026*\"receive\" + 0.025*\"contact\"'), (11, '0.036*\"update\" + 0.030*\"offer\" + 0.029*\"access\" + 0.027*\"program\" + 0.026*\"service\" + 0.021*\"available\" + 0.018*\"free\" + 0.018*\"text\" + 0.017*\"receive\" + 0.017*\"site\"'), (12, '0.886*\"com\" + 0.006*\"regulation\" + 0.004*\"net\" + 0.003*\"confidentiality\" + 0.002*\"may\" + 0.002*\"log\" + 0.002*\"switch\" + 0.002*\"male\" + 0.002*\"filter\" + 0.002*\"michael_seely\"'), (13, '0.054*\"would\" + 0.041*\"see\" + 0.037*\"know\" + 0.025*\"let\" + 0.024*\"go\" + 0.022*\"make\" + 0.022*\"get\" + 0.022*\"work\" + 0.021*\"want\" + 0.018*\"time\"'), (14, '0.040*\"issue\" + 0.035*\"plan\" + 0.026*\"report\" + 0.025*\"change\" + 0.023*\"group\" + 0.022*\"work\" + 0.022*\"business\" + 0.019*\"include\" + 0.018*\"discuss\" + 0.015*\"also\"'), (15, '0.086*\"rule\" + 0.040*\"way\" + 0.034*\"game\" + 0.027*\"hope\" + 0.025*\"job\" + 0.020*\"appeal\" + 0.017*\"woman\" + 0.016*\"night\" + 0.015*\"yard\" + 0.014*\"model\"'), (16, '0.052*\"market\" + 0.034*\"price\" + 0.031*\"contract\" + 0.030*\"power\" + 0.030*\"trade\" + 0.024*\"risk\" + 0.024*\"customer\" + 0.022*\"energy\" + 0.019*\"gas\" + 0.019*\"product\"'), (17, '0.042*\"company\" + 0.032*\"year\" + 0.028*\"say\" + 0.022*\"law\" + 0.016*\"court\" + 0.015*\"percent\" + 0.010*\"job\" + 0.010*\"continue\" + 0.010*\"federal\" + 0.010*\"practice\"'), (18, '0.122*\"employee\" + 0.049*\"agreement\" + 0.035*\"pay\" + 0.027*\"attach\" + 0.022*\"order\" + 0.022*\"legal\" + 0.021*\"file\" + 0.019*\"form\" + 0.018*\"comment\" + 0.017*\"payment\"'), (19, '0.046*\"permit\" + 0.035*\"director\" + 0.031*\"conduct\" + 0.030*\"event\" + 0.029*\"bonus\" + 0.021*\"settlement\" + 0.017*\"mark\" + 0.015*\"analyst\" + 0.015*\"title\" + 0.015*\"associate\"')]\n"
          ],
          "name": "stdout"
        }
      ]
    }
  ]
}